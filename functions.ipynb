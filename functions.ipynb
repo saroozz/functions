{
  "nbformat": 4,
  "nbformat_minor": 0,
  "metadata": {
    "colab": {
      "provenance": []
    },
    "kernelspec": {
      "name": "python3",
      "display_name": "Python 3"
    },
    "language_info": {
      "name": "python"
    }
  },
  "cells": [
    {
      "cell_type": "markdown",
      "source": [
        "1.  What is the difference between a function and a method in Python ??\n",
        "\n",
        "* Functions:\n",
        "A function is defined using the def keyword.It is not bound to an object, it Can be called independently.\n",
        "* Method:\n",
        "A method is also defined using def But it is associated with an object (usually called using a class or instance).It is called using dot notation with an object.\n",
        "\n",
        "2.  Explain the concept of function arguments and parameters in Python ??\n",
        "\n",
        "* Parameter : The variable listed inside the function definition.\n",
        "* Argument : The value passed to the function when calling it.\n",
        "\n",
        "\n",
        "\n"
      ],
      "metadata": {
        "id": "8McEj7yQAXDg"
      }
    },
    {
      "cell_type": "code",
      "source": [
        "# Function definition with parameters\n",
        "def greet(name, age):\n",
        "    print(\"Hello\", name)\n",
        "    print(\"You are\", age, \"years old\")\n",
        "\n",
        "# Function call with arguments\n",
        "greet(\"Saro\", 22)"
      ],
      "metadata": {
        "colab": {
          "base_uri": "https://localhost:8080/"
        },
        "id": "hV0Kk1WECBYp",
        "outputId": "2874cdbe-e38e-4099-e4ea-b16293869f3f"
      },
      "execution_count": 1,
      "outputs": [
        {
          "output_type": "stream",
          "name": "stdout",
          "text": [
            "Hello Saro\n",
            "You are 22 years old\n"
          ]
        }
      ]
    },
    {
      "cell_type": "markdown",
      "source": [
        "3. What are the different ways to define and call a function in Python ??\n"
      ],
      "metadata": {
        "id": "xttfw2gaCa0g"
      }
    },
    {
      "cell_type": "code",
      "source": [
        "# Regular Function Definition and Call\n",
        "def greet():\n",
        "    print(\"Hello!\")\n",
        "\n",
        "greet()  # Function call"
      ],
      "metadata": {
        "colab": {
          "base_uri": "https://localhost:8080/"
        },
        "id": "fhKfuqHUCwDW",
        "outputId": "13494247-8495-43c9-dfb3-ce4cd5ec7df3"
      },
      "execution_count": 2,
      "outputs": [
        {
          "output_type": "stream",
          "name": "stdout",
          "text": [
            "Hello!\n"
          ]
        }
      ]
    },
    {
      "cell_type": "code",
      "source": [
        "# Function with Parameters and Arguments\n",
        "def add(a, b):\n",
        "    return a + b\n",
        "\n",
        "result = add(5, 3)\n",
        "print(result)"
      ],
      "metadata": {
        "colab": {
          "base_uri": "https://localhost:8080/"
        },
        "id": "Zf2tCVU-C7cQ",
        "outputId": "6069e7a1-53b3-4870-e87a-7ac4c1c08d01"
      },
      "execution_count": 3,
      "outputs": [
        {
          "output_type": "stream",
          "name": "stdout",
          "text": [
            "8\n"
          ]
        }
      ]
    },
    {
      "cell_type": "markdown",
      "source": [
        "4.  What is the purpose of the `return` statement in a Python function ??\n",
        "\n",
        "* The return statement is used to send a value back from a function to the place where the function was called.\n",
        "\n",
        "* If you don't use return it will return none by default.\n",
        "\n",
        "5. What are iterators in Python and how do they differ from iterables ??\n",
        "\n",
        "* An iterable is any object that you can loop over (using for loop).\n",
        "\n",
        "* It implements the __iter__() method.\n",
        "\n",
        "* Examples: list, tuple, string, set, dictionary.\n",
        "\n",
        "6. . Explain the concept of generators in Python and how they are defined ??\n",
        "\n",
        "* A generator is a special type of function that returns an iterator and allows you to generate values one at a time using the yield keyword instead of return.\n",
        "\n",
        "\n"
      ],
      "metadata": {
        "id": "5LV6nX4-DS-g"
      }
    },
    {
      "cell_type": "code",
      "source": [
        "def count_up_to(n):\n",
        "    i = 1\n",
        "    while i <= n:\n",
        "        yield i\n",
        "        i += 1\n",
        "\n",
        "# Use in a loop\n",
        "for number in count_up_to(3):\n",
        "    print(number)"
      ],
      "metadata": {
        "colab": {
          "base_uri": "https://localhost:8080/"
        },
        "id": "HyOvmin8E6C4",
        "outputId": "c4ad486b-4720-48a4-ee8f-b48eaa260170"
      },
      "execution_count": 6,
      "outputs": [
        {
          "output_type": "stream",
          "name": "stdout",
          "text": [
            "1\n",
            "2\n",
            "3\n"
          ]
        }
      ]
    },
    {
      "cell_type": "markdown",
      "source": [
        "7.  What are the advantages of using generators over regular functions ??\n",
        "\n",
        "* Memory Efficient : Regular functions may return a big list → uses more memory. Generators return one value at a time → uses less memory.\n",
        "* Faster for Large Data : Since generators don’t store the entire data, they are faster when working with huge data sets.\n",
        "* Cleaner Code : Generators can replace complex logic (like building large lists) with simple loops using yield.\n",
        "\n",
        "8. What is a lambda function in Python and when is it typically used ??\n",
        "\n",
        "* A lambda function is a small anonymous function in Python — meaning it has no name.\n",
        "* It's written using the keyword lambda.\n",
        "* It's usually used for short, simple tasks.\n",
        "* Works like a regular function, but in one line.\n",
        "\n",
        "\n",
        "\n"
      ],
      "metadata": {
        "id": "EfSJ-z9AFviK"
      }
    },
    {
      "cell_type": "code",
      "source": [
        "def add(x, y):\n",
        "    return x + y\n",
        "\n",
        "# Lambda function (same as above)\n",
        "add_lambda = lambda x, y: x + y\n",
        "\n",
        "print(add_lambda(5, 3))"
      ],
      "metadata": {
        "colab": {
          "base_uri": "https://localhost:8080/"
        },
        "id": "2_30TVznHJaG",
        "outputId": "c9fb32d6-c009-439e-c37e-67efb7e9c6a9"
      },
      "execution_count": 7,
      "outputs": [
        {
          "output_type": "stream",
          "name": "stdout",
          "text": [
            "8\n"
          ]
        }
      ]
    },
    {
      "cell_type": "markdown",
      "source": [
        "9.  Explain the purpose and usage of the `map()` function in Python ??\n",
        "\n",
        "* map() is a built-in function used to apply a function to each item in a list (or any iterable).\n",
        "\n",
        "* It returns a map object, which you can convert to a list or use in a loop.\n",
        "\n"
      ],
      "metadata": {
        "id": "AAP8flr_HOtA"
      }
    },
    {
      "cell_type": "code",
      "source": [
        "def double(n):\n",
        "    return n * 2\n",
        "\n",
        "numbers = [1, 2, 3, 4]\n",
        "result = map(double, numbers)\n",
        "\n",
        "print(list(result))"
      ],
      "metadata": {
        "colab": {
          "base_uri": "https://localhost:8080/"
        },
        "id": "4lMNkYIHH9oz",
        "outputId": "7b1ec4bc-d206-4464-87fa-00b3d15924b5"
      },
      "execution_count": 8,
      "outputs": [
        {
          "output_type": "stream",
          "name": "stdout",
          "text": [
            "[2, 4, 6, 8]\n"
          ]
        }
      ]
    },
    {
      "cell_type": "markdown",
      "source": [
        "10. What is the difference between `map()`, `reduce()`, and `filter()` functions in Python ??\n",
        "\n",
        "* map(): Transform each element, map object → list, Apply function to every item\n",
        "* filter(): Select certain elements\tfilter object\tFilter items based on condition\n",
        "* reduce(): Combine all elements to one\tSingle value\tApply function to reduce to one.\n",
        "\n",
        "11.  Using pen & Paper write the internal mechanism for sum operation using  reduce function on this given\n",
        "list:[47,11,42,13];\n",
        "\n"
      ],
      "metadata": {
        "id": "UC_VbwdqISmV"
      }
    },
    {
      "cell_type": "code",
      "source": [
        "from functools import reduce\n",
        "\n",
        "nums = [47, 11, 42, 13]\n",
        "total = reduce(lambda x, y: x + y, nums)\n",
        "print(total)"
      ],
      "metadata": {
        "colab": {
          "base_uri": "https://localhost:8080/"
        },
        "id": "pMjaQ_IFJv_6",
        "outputId": "ccb7c4a5-b88e-45da-9524-ec20202eb170"
      },
      "execution_count": 9,
      "outputs": [
        {
          "output_type": "stream",
          "name": "stdout",
          "text": [
            "113\n"
          ]
        }
      ]
    },
    {
      "cell_type": "code",
      "source": [
        "#  Write a Python function that takes a list of numbers as input and returns the sum of all even numbers in the list\n",
        "# Answer\n",
        "nums = input(\"Enter numbers: \")\n",
        "\n",
        "# Convert to list of integers\n",
        "nums = nums.split()\n",
        "nums = [int(i) for i in nums]\n",
        "\n",
        "# Calculate sum of even numbers\n",
        "even_sum = 0\n",
        "for n in nums:\n",
        "    if n % 2 == 0:\n",
        "        even_sum += n\n",
        "\n",
        "print(\"Even sum is:\", even_sum)"
      ],
      "metadata": {
        "colab": {
          "base_uri": "https://localhost:8080/"
        },
        "id": "tU96d5IWMDoV",
        "outputId": "0aa30f21-9468-4807-9fc6-e53f939b51f2"
      },
      "execution_count": 18,
      "outputs": [
        {
          "output_type": "stream",
          "name": "stdout",
          "text": [
            "Enter numbers: 4 5 7 8 11 15 20 22 24\n",
            "Even sum is: 78\n"
          ]
        }
      ]
    },
    {
      "cell_type": "code",
      "source": [
        "# Create a Python function that accepts a string and returns the reverse of that string.\n",
        "# Answer\n",
        "def reverse_string(text):\n",
        "    return text[::-1]\n",
        "user_input = input(\"Enter a string: \")\n",
        "result = reverse_string(user_input)\n",
        "print(\"Reversed string:\", result)"
      ],
      "metadata": {
        "colab": {
          "base_uri": "https://localhost:8080/"
        },
        "id": "TshQyrDvM5hh",
        "outputId": "f0d631bd-9c54-468f-deb8-4aaadccaefbf"
      },
      "execution_count": 19,
      "outputs": [
        {
          "output_type": "stream",
          "name": "stdout",
          "text": [
            "Enter a string: data analytics\n",
            "Reversed string: scitylana atad\n"
          ]
        }
      ]
    },
    {
      "cell_type": "code",
      "source": [
        "# Implement a Python function that takes a list of integers and returns a new list containing the squares of each number.\n",
        "# Answer\n",
        "def square_list(numbers):\n",
        "    result = []\n",
        "    for n in numbers:\n",
        "        result.append(n * n)\n",
        "    return result\n",
        "nums = [1, 2, 3, 4]\n",
        "squares = square_list(nums)\n",
        "print(\"Squared list:\", squares)"
      ],
      "metadata": {
        "colab": {
          "base_uri": "https://localhost:8080/"
        },
        "id": "XGpxc15eNR95",
        "outputId": "7b637730-2396-4894-b540-8585bdfd0503"
      },
      "execution_count": 20,
      "outputs": [
        {
          "output_type": "stream",
          "name": "stdout",
          "text": [
            "Squared list: [1, 4, 9, 16]\n"
          ]
        }
      ]
    },
    {
      "cell_type": "code",
      "source": [
        "# Write a Python function that checks if a given number is prime or not from 1 to 200\n",
        "# Answer\n",
        "def is_prime(n):\n",
        "    if n <= 1:\n",
        "        return False\n",
        "    for i in range(2, n):\n",
        "        if n % i == 0:\n",
        "            return False\n",
        "    return True\n",
        "for num in range(1, 201):\n",
        "    if is_prime(num):\n",
        "        print(num, \"is a Prime number\")"
      ],
      "metadata": {
        "colab": {
          "base_uri": "https://localhost:8080/"
        },
        "id": "yALZbEjNOVZP",
        "outputId": "a8564e4b-f618-451f-a750-c25a82734e1c"
      },
      "execution_count": 23,
      "outputs": [
        {
          "output_type": "stream",
          "name": "stdout",
          "text": [
            "2 is a Prime number\n",
            "3 is a Prime number\n",
            "5 is a Prime number\n",
            "7 is a Prime number\n",
            "11 is a Prime number\n",
            "13 is a Prime number\n",
            "17 is a Prime number\n",
            "19 is a Prime number\n",
            "23 is a Prime number\n",
            "29 is a Prime number\n",
            "31 is a Prime number\n",
            "37 is a Prime number\n",
            "41 is a Prime number\n",
            "43 is a Prime number\n",
            "47 is a Prime number\n",
            "53 is a Prime number\n",
            "59 is a Prime number\n",
            "61 is a Prime number\n",
            "67 is a Prime number\n",
            "71 is a Prime number\n",
            "73 is a Prime number\n",
            "79 is a Prime number\n",
            "83 is a Prime number\n",
            "89 is a Prime number\n",
            "97 is a Prime number\n",
            "101 is a Prime number\n",
            "103 is a Prime number\n",
            "107 is a Prime number\n",
            "109 is a Prime number\n",
            "113 is a Prime number\n",
            "127 is a Prime number\n",
            "131 is a Prime number\n",
            "137 is a Prime number\n",
            "139 is a Prime number\n",
            "149 is a Prime number\n",
            "151 is a Prime number\n",
            "157 is a Prime number\n",
            "163 is a Prime number\n",
            "167 is a Prime number\n",
            "173 is a Prime number\n",
            "179 is a Prime number\n",
            "181 is a Prime number\n",
            "191 is a Prime number\n",
            "193 is a Prime number\n",
            "197 is a Prime number\n",
            "199 is a Prime number\n"
          ]
        }
      ]
    },
    {
      "cell_type": "code",
      "source": [
        "# Create an iterator class in Python that generates the Fibonacci sequence up to a specified number of terms.\n",
        "# Answer\n",
        "class Fib:\n",
        "    def __init__(self, terms):\n",
        "        self.n = terms\n",
        "        self.a = 0\n",
        "        self.b = 1\n",
        "        self.count = 0\n",
        "\n",
        "    def __iter__(self):\n",
        "        return self\n",
        "\n",
        "    def __next__(self):\n",
        "        if self.count >= self.n:\n",
        "            raise StopIteration\n",
        "        if self.count == 0:\n",
        "            self.count += 1\n",
        "            return 0\n",
        "        elif self.count == 1:\n",
        "            self.count += 1\n",
        "            return 1\n",
        "        else:\n",
        "            self.a, self.b = self.b, self.a + self.b\n",
        "            self.count += 1\n",
        "            return self.b\n",
        "f = Fib(7)\n",
        "\n",
        "for i in f:\n",
        "    print(i, end=\" \")"
      ],
      "metadata": {
        "colab": {
          "base_uri": "https://localhost:8080/"
        },
        "id": "gZ1FlHrDPwVV",
        "outputId": "3d29f7b7-4c51-4a81-a84a-d0b8560c9966"
      },
      "execution_count": 26,
      "outputs": [
        {
          "output_type": "stream",
          "name": "stdout",
          "text": [
            "0 1 1 2 3 5 8 "
          ]
        }
      ]
    },
    {
      "cell_type": "code",
      "source": [
        "# Write a generator function in Python that yields the powers of 2 up to a given exponent.\n",
        "# Answer\n",
        "def powers_of_two(n):\n",
        "    for i in range(n + 1):\n",
        "        yield 2 ** i\n",
        "for x in powers_of_two(4):\n",
        "    print(x)"
      ],
      "metadata": {
        "colab": {
          "base_uri": "https://localhost:8080/"
        },
        "id": "oOYEoJhnQ2K2",
        "outputId": "88e8b04c-f1f1-4ce0-9516-6940a196ab00"
      },
      "execution_count": 27,
      "outputs": [
        {
          "output_type": "stream",
          "name": "stdout",
          "text": [
            "1\n",
            "2\n",
            "4\n",
            "8\n",
            "16\n"
          ]
        }
      ]
    },
    {
      "cell_type": "code",
      "source": [
        "# Implement a generator function that reads a file line by line and yields each line as a string.\n",
        "# Answer\n",
        "def read_file_lines(filename):\n",
        "    with open(filename, 'r') as file:\n",
        "        for line in file:\n",
        "            yield line.strip()\n",
        "for line in read_file_lines(\"sample.txt\"):\n",
        "    print(line)"
      ],
      "metadata": {
        "colab": {
          "base_uri": "https://localhost:8080/",
          "height": 315
        },
        "collapsed": true,
        "id": "2LA_MqZsRmyl",
        "outputId": "315e9230-346e-4885-b8b0-77c0e9478035"
      },
      "execution_count": 29,
      "outputs": [
        {
          "output_type": "error",
          "ename": "FileNotFoundError",
          "evalue": "[Errno 2] No such file or directory: 'sample.txt'",
          "traceback": [
            "\u001b[0;31m---------------------------------------------------------------------------\u001b[0m",
            "\u001b[0;31mFileNotFoundError\u001b[0m                         Traceback (most recent call last)",
            "\u001b[0;32m/tmp/ipython-input-29-2460081284.py\u001b[0m in \u001b[0;36m<cell line: 0>\u001b[0;34m()\u001b[0m\n\u001b[1;32m      5\u001b[0m         \u001b[0;32mfor\u001b[0m \u001b[0mline\u001b[0m \u001b[0;32min\u001b[0m \u001b[0mfile\u001b[0m\u001b[0;34m:\u001b[0m\u001b[0;34m\u001b[0m\u001b[0;34m\u001b[0m\u001b[0m\n\u001b[1;32m      6\u001b[0m             \u001b[0;32myield\u001b[0m \u001b[0mline\u001b[0m\u001b[0;34m.\u001b[0m\u001b[0mstrip\u001b[0m\u001b[0;34m(\u001b[0m\u001b[0;34m)\u001b[0m\u001b[0;34m\u001b[0m\u001b[0;34m\u001b[0m\u001b[0m\n\u001b[0;32m----> 7\u001b[0;31m \u001b[0;32mfor\u001b[0m \u001b[0mline\u001b[0m \u001b[0;32min\u001b[0m \u001b[0mread_file_lines\u001b[0m\u001b[0;34m(\u001b[0m\u001b[0;34m\"sample.txt\"\u001b[0m\u001b[0;34m)\u001b[0m\u001b[0;34m:\u001b[0m\u001b[0;34m\u001b[0m\u001b[0;34m\u001b[0m\u001b[0m\n\u001b[0m\u001b[1;32m      8\u001b[0m     \u001b[0mprint\u001b[0m\u001b[0;34m(\u001b[0m\u001b[0mline\u001b[0m\u001b[0;34m)\u001b[0m\u001b[0;34m\u001b[0m\u001b[0;34m\u001b[0m\u001b[0m\n",
            "\u001b[0;32m/tmp/ipython-input-29-2460081284.py\u001b[0m in \u001b[0;36mread_file_lines\u001b[0;34m(filename)\u001b[0m\n\u001b[1;32m      2\u001b[0m \u001b[0;31m# Answer\u001b[0m\u001b[0;34m\u001b[0m\u001b[0;34m\u001b[0m\u001b[0m\n\u001b[1;32m      3\u001b[0m \u001b[0;32mdef\u001b[0m \u001b[0mread_file_lines\u001b[0m\u001b[0;34m(\u001b[0m\u001b[0mfilename\u001b[0m\u001b[0;34m)\u001b[0m\u001b[0;34m:\u001b[0m\u001b[0;34m\u001b[0m\u001b[0;34m\u001b[0m\u001b[0m\n\u001b[0;32m----> 4\u001b[0;31m     \u001b[0;32mwith\u001b[0m \u001b[0mopen\u001b[0m\u001b[0;34m(\u001b[0m\u001b[0mfilename\u001b[0m\u001b[0;34m,\u001b[0m \u001b[0;34m'r'\u001b[0m\u001b[0;34m)\u001b[0m \u001b[0;32mas\u001b[0m \u001b[0mfile\u001b[0m\u001b[0;34m:\u001b[0m\u001b[0;34m\u001b[0m\u001b[0;34m\u001b[0m\u001b[0m\n\u001b[0m\u001b[1;32m      5\u001b[0m         \u001b[0;32mfor\u001b[0m \u001b[0mline\u001b[0m \u001b[0;32min\u001b[0m \u001b[0mfile\u001b[0m\u001b[0;34m:\u001b[0m\u001b[0;34m\u001b[0m\u001b[0;34m\u001b[0m\u001b[0m\n\u001b[1;32m      6\u001b[0m             \u001b[0;32myield\u001b[0m \u001b[0mline\u001b[0m\u001b[0;34m.\u001b[0m\u001b[0mstrip\u001b[0m\u001b[0;34m(\u001b[0m\u001b[0;34m)\u001b[0m\u001b[0;34m\u001b[0m\u001b[0;34m\u001b[0m\u001b[0m\n",
            "\u001b[0;31mFileNotFoundError\u001b[0m: [Errno 2] No such file or directory: 'sample.txt'"
          ]
        }
      ]
    },
    {
      "cell_type": "code",
      "source": [
        "#  Use a lambda function in Python to sort a list of tuples based on the second element of each tuple.\n",
        "# Answer\n",
        "data = [(1, 3), (4, 1), (2, 2), (5, 0)]\n",
        "sorted_data = sorted(data, key=lambda x: x[1])\n",
        "\n",
        "print(sorted_data)"
      ],
      "metadata": {
        "colab": {
          "base_uri": "https://localhost:8080/"
        },
        "id": "zi-Tf_DiSEBo",
        "outputId": "0fce2b4a-28f0-43e6-cbce-ac68473aa46f"
      },
      "execution_count": 30,
      "outputs": [
        {
          "output_type": "stream",
          "name": "stdout",
          "text": [
            "[(5, 0), (4, 1), (2, 2), (1, 3)]\n"
          ]
        }
      ]
    },
    {
      "cell_type": "code",
      "source": [
        "# Write a Python program that uses `map()` to convert a list of temperatures from Celsius to Fahrenheit\n",
        "# Answer\n",
        "celsius = [0, 20, 37, 100]\n",
        "fahrenheit = list(map(lambda c: (c * 9/5) + 32, celsius))\n",
        "\n",
        "print(\"Celsius:\", celsius)\n",
        "print(\"Fahrenheit:\", fahrenheit)"
      ],
      "metadata": {
        "colab": {
          "base_uri": "https://localhost:8080/"
        },
        "id": "6iRlWvcaSbmM",
        "outputId": "714bf0d1-cc70-44a9-fca8-0998b89b3323"
      },
      "execution_count": 31,
      "outputs": [
        {
          "output_type": "stream",
          "name": "stdout",
          "text": [
            "Celsius: [0, 20, 37, 100]\n",
            "Fahrenheit: [32.0, 68.0, 98.6, 212.0]\n"
          ]
        }
      ]
    },
    {
      "cell_type": "code",
      "source": [
        "# Create a Python program that uses `filter()` to remove all the vowels from a given string.\n",
        "# Answer\n",
        "def remove_vowels(text):\n",
        "    vowels = 'aeiouAEIOU'\n",
        "    result = ''.join(filter(lambda ch: ch not in vowels, text))\n",
        "    return result\n",
        "\n",
        "input_str = \"Hello Python World\"\n",
        "output_str = remove_vowels(input_str)\n",
        "\n",
        "print(\"Original:\", input_str)\n",
        "print(\"Without vowels:\", output_str)"
      ],
      "metadata": {
        "colab": {
          "base_uri": "https://localhost:8080/"
        },
        "id": "71rvlWVBSw1b",
        "outputId": "346c2dbf-b579-4e29-b658-636ce854428a"
      },
      "execution_count": 32,
      "outputs": [
        {
          "output_type": "stream",
          "name": "stdout",
          "text": [
            "Original: Hello Python World\n",
            "Without vowels: Hll Pythn Wrld\n"
          ]
        }
      ]
    },
    {
      "cell_type": "code",
      "source": [
        "# Write a Python program, which returns a list with 2-tuples. Each tuple consists of the order number and the product of the price per item and the quantity. The product should be increased by 10,- € if the value of the order is smaller than 100,00 €.\n",
        "# Answer\n",
        "orders = [\n",
        "    [1001, \"Book A\", 4, 40.00],\n",
        "    [1002, \"Book B\", 5, 56.00],\n",
        "    [1003, \"Book C\", 3, 32.00],\n",
        "    [1004, \"Book D\", 3, 24.00]\n",
        "]\n",
        "\n",
        "def calculate_order_totals(order_list):\n",
        "    result = []\n",
        "    for order in order_list:\n",
        "        order_no = order[0]\n",
        "        quantity = order[2]\n",
        "        price = order[3]\n",
        "        total = quantity * price\n",
        "\n",
        "        if total < 100:\n",
        "            total += 10  # Add €10 charge\n",
        "\n",
        "        result.append((order_no, total))\n",
        "    return result\n",
        "\n",
        "final_result = calculate_order_totals(orders)\n",
        "print(final_result)"
      ],
      "metadata": {
        "colab": {
          "base_uri": "https://localhost:8080/"
        },
        "id": "6DVoh6w3S-Z6",
        "outputId": "0c8deef8-4f20-425d-a134-6609ffb41ea7"
      },
      "execution_count": 34,
      "outputs": [
        {
          "output_type": "stream",
          "name": "stdout",
          "text": [
            "[(1001, 160.0), (1002, 280.0), (1003, 106.0), (1004, 82.0)]\n"
          ]
        }
      ]
    }
  ]
}